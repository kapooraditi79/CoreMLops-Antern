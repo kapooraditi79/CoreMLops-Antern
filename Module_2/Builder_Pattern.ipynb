{
 "cells": [
  {
   "cell_type": "code",
   "execution_count": 1,
   "id": "cfb1d64a",
   "metadata": {},
   "outputs": [],
   "source": [
    "class Pizza:\n",
    "    def __init__(self, size, toppings, spice):\n",
    "        self.size = size\n",
    "        self.toppings = toppings\n",
    "        self.spice = spice\n",
    "    \n",
    "    def __str__(self):\n",
    "        return f\"Pizza(size={self.size}, toppings={self.toppings}, spice={self.spice})\"\n",
    "\n",
    "class PizzaBuilder:\n",
    "    def __init__(self):\n",
    "        self._size = \"\"\n",
    "        self._toppings = []\n",
    "        self._spice = \"\"\n",
    "    \n",
    "    def set_size(self, size):\n",
    "        self._size = size\n",
    "        return self  # Return self for method chaining\n",
    "    \n",
    "    def add_toppings(self, topping):\n",
    "        self._toppings.append(topping)\n",
    "        return self  # Return self for method chaining\n",
    "    \n",
    "    def set_spice(self, spice):\n",
    "        self._spice = spice\n",
    "        return self  # Return self for method chaining\n",
    "    \n",
    "    def bake(self):\n",
    "        return Pizza(\n",
    "            self._size, self._toppings, self._spice  # Use self._ prefix for attributes\n",
    "        )\n"
   ]
  },
  {
   "cell_type": "code",
   "execution_count": 7,
   "id": "ea0ce892",
   "metadata": {},
   "outputs": [
    {
     "data": {
      "text/plain": [
       "\"Pizza(size=Large, toppings=['cheeze', 'olives', 'Capsicum'], spice=)\""
      ]
     },
     "execution_count": 7,
     "metadata": {},
     "output_type": "execute_result"
    }
   ],
   "source": [
    "PizzaBuilder().set_size(\"Large\").add_toppings(\"cheeze\").add_toppings(\"olives\").add_toppings(\"Capsicum\").bake().__str__()\n"
   ]
  }
 ],
 "metadata": {
  "kernelspec": {
   "display_name": "mlops__env",
   "language": "python",
   "name": "python3"
  },
  "language_info": {
   "codemirror_mode": {
    "name": "ipython",
    "version": 3
   },
   "file_extension": ".py",
   "mimetype": "text/x-python",
   "name": "python",
   "nbconvert_exporter": "python",
   "pygments_lexer": "ipython3",
   "version": "3.12.7"
  }
 },
 "nbformat": 4,
 "nbformat_minor": 5
}

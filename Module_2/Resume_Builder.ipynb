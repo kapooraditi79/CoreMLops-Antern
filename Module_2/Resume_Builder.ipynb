{
 "cells": [
  {
   "cell_type": "code",
   "execution_count": 2,
   "id": "3f448dc4",
   "metadata": {},
   "outputs": [],
   "source": [
    "class Resume:\n",
    "    def __init__(self, name, email, grade, skills, projects, hobbies, contact_num, linkedinUrl):\n",
    "        self.name=name\n",
    "        self.email=email\n",
    "        self.grade=grade\n",
    "        self.skills=skills\n",
    "        self.projects= projects\n",
    "        self.hobbies=hobbies\n",
    "        self.contact_num=contact_num\n",
    "        self.linkedinUrl= linkedinUrl\n",
    "\n",
    "    def __str__(self):\n",
    "        return (\n",
    "            f\"Name: {self.name}\\n\"\n",
    "            f\"Email: {self.email}\\n\"\n",
    "            f\"Grade: {self.grade}\\n\"\n",
    "            f\"Skills: {', '.join(self.skills)}\\n\"\n",
    "            f\"Projects: {', '.join(self.projects)}\\n\"\n",
    "            f\"Hobbies: {', '.join(self.hobbies)}\\n\"\n",
    "            f\"Contact Number: {self.contact_num}\\n\"\n",
    "            f\"LinkedIn: {self.linkedinUrl}\"\n",
    "        )"
   ]
  },
  {
   "cell_type": "code",
   "execution_count": 3,
   "id": "89d014eb",
   "metadata": {},
   "outputs": [],
   "source": [
    "class ResumeBuilder:\n",
    "    def __init__(self):\n",
    "        self._name=\"\"\n",
    "        self._grade=\"\"\n",
    "        self._email=\"\"\n",
    "        self._skills=[]\n",
    "        self._projects=[]\n",
    "        self._hobbies=[]\n",
    "        self._contact_num=\"\"\n",
    "        self._linkedinUrl=\"\"\n",
    "    \n",
    "    def set_name(self, name):\n",
    "        self._name=name\n",
    "        return self # return self for method chaining\n",
    "\n",
    "    def set_grade(self, grade):\n",
    "        self._grade=grade\n",
    "        return self\n",
    "    \n",
    "    def set_email(self, email):\n",
    "        self._email= email\n",
    "        return self\n",
    "    \n",
    "    def add_skills(self, skill):\n",
    "        self._skills.append(skill)\n",
    "        return self\n",
    "    \n",
    "    def add_projects(self, project):\n",
    "        self._projects.append(project)\n",
    "        return self\n",
    "    \n",
    "    def add_hobbies(self, hobby):\n",
    "        self._hobbies.append(hobby)\n",
    "        return self\n",
    "    \n",
    "    def set_contact(self, num):\n",
    "        self._contact_num=num\n",
    "        return self\n",
    "    \n",
    "    def set_linkedinUri(self, linkedin):\n",
    "        self._linkedinUrl=linkedin\n",
    "        return self\n",
    "    \n",
    "    def build(self):\n",
    "        return Resume(\n",
    "            self._name, self._email, self._grade, self._skills, self._projects, self._hobbies, self._contact_num, self._linkedinUrl\n",
    "        )\n",
    "\n",
    "# The build() method of ResumeBuilder Class must match with __init__() method of Resume Class."
   ]
  },
  {
   "cell_type": "code",
   "execution_count": 4,
   "id": "a881785c",
   "metadata": {},
   "outputs": [],
   "source": [
    "my_resume= ResumeBuilder().set_name(\"aditi\").set_email(\"kapooraditi890@gmail.com\").set_contact(\"9650XXXXXX\").add_hobbies(\"reading\").add_hobbies(\"coding\").add_projects(\"BingNovel\").add_skills(\"RAG and AI expert\").build().__str__()"
   ]
  },
  {
   "cell_type": "code",
   "execution_count": 5,
   "id": "58ade750",
   "metadata": {},
   "outputs": [
    {
     "data": {
      "text/plain": [
       "'Name: aditi\\nEmail: kapooraditi890@gmail.com\\nGrade: \\nSkills: RAG and AI expert\\nProjects: BingNovel\\nHobbies: reading, coding\\nContact Number: 9650XXXXXX\\nLinkedIn: '"
      ]
     },
     "execution_count": 5,
     "metadata": {},
     "output_type": "execute_result"
    }
   ],
   "source": [
    "my_resume"
   ]
  }
 ],
 "metadata": {
  "kernelspec": {
   "display_name": "mlops__env",
   "language": "python",
   "name": "mlops__env"
  },
  "language_info": {
   "codemirror_mode": {
    "name": "ipython",
    "version": 3
   },
   "file_extension": ".py",
   "mimetype": "text/x-python",
   "name": "python",
   "nbconvert_exporter": "python",
   "pygments_lexer": "ipython3",
   "version": "3.12.7"
  }
 },
 "nbformat": 4,
 "nbformat_minor": 5
}
